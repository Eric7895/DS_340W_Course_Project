{
 "cells": [
  {
   "cell_type": "markdown",
   "metadata": {},
   "source": [
    "### This notebook is used to process Twibot22 data"
   ]
  },
  {
   "cell_type": "code",
   "execution_count": 3,
   "metadata": {},
   "outputs": [],
   "source": [
    "# Import neccesary libaries\n",
    "import pandas as pd"
   ]
  },
  {
   "cell_type": "code",
   "execution_count": 2,
   "metadata": {},
   "outputs": [],
   "source": [
    "# Convert json to csv \n",
    "def main():\n",
    "    with open('tweet_0.json', encoding='utf-8-sig') as f:\n",
    "        df = pd.read_json(f)\n",
    "    df.to_csv('tweet_0.csv', encoding='utf-8', index=False)\n",
    "\n",
    "#main()"
   ]
  },
  {
   "cell_type": "code",
   "execution_count": 3,
   "metadata": {},
   "outputs": [],
   "source": [
    "path = 'Data/temp.csv'\n",
    "#hashtag = pd.read_csv('hashtag.csv')\n",
    "#label = pd.read_csv('label.csv')\n",
    "#split = pd.read_csv('split.csv')\n",
    "#users = pd.read_csv('user.csv')"
   ]
  },
  {
   "cell_type": "markdown",
   "metadata": {},
   "source": [
    "#### Exploring Data Structure"
   ]
  },
  {
   "cell_type": "code",
   "execution_count": 5,
   "metadata": {},
   "outputs": [],
   "source": [
    "def check(df: pd.DataFrame):\n",
    "    print(df.shape)\n",
    "    print(df.head(10))"
   ]
  },
  {
   "cell_type": "code",
   "execution_count": 6,
   "metadata": {},
   "outputs": [
    {
     "name": "stdout",
     "output_type": "stream",
     "text": [
      "(5146289, 2)\n",
      "   id                       tag_name\n",
      "0  h0          TheLegendofVoxMachina\n",
      "1  h1           CriticalRoleSpoilers\n",
      "2  h2                    LVMSpoilers\n",
      "3  h3                            wip\n",
      "4  h4             criticalrolefanart\n",
      "5  h5           criticalrolespoilers\n",
      "6  h6                 fearnecalloway\n",
      "7  h7                      valeneins\n",
      "8  h8                   valeneinsart\n",
      "9  h9  TheLegendofVoxMachinaSpoilers\n"
     ]
    }
   ],
   "source": [
    "# Tag refers to the type of tag collected in the data - Where the users post and discuss their interest.\n",
    "hashtag = pd.read_csv('Data/hashtag.csv') \n",
    "check(hashtag)"
   ]
  },
  {
   "cell_type": "code",
   "execution_count": 6,
   "metadata": {},
   "outputs": [
    {
     "name": "stdout",
     "output_type": "stream",
     "text": [
      "(1000000, 2)\n",
      "                     id  split\n",
      "0           u2664730894  train\n",
      "1  u1089159225148882949  train\n",
      "2             u36741729  train\n",
      "3           u1679822588  train\n",
      "4           u1519144464  train\n",
      "5             u15211869  train\n",
      "6  u1309034737756000256  train\n",
      "7            u848975226  train\n",
      "8  u1109809482656149504  train\n",
      "9            u138814032  train\n"
     ]
    }
   ],
   "source": [
    "# Label train/test split among the users data - Might not be relevant. \n",
    "split = pd.read_csv('Data/split.csv')\n",
    "check(split)"
   ]
  },
  {
   "cell_type": "markdown",
   "metadata": {},
   "source": [
    "#### What's important - Twitter User Data With Label"
   ]
  },
  {
   "cell_type": "code",
   "execution_count": 4,
   "metadata": {},
   "outputs": [
    {
     "name": "stderr",
     "output_type": "stream",
     "text": [
      "C:\\Users\\wue77\\AppData\\Local\\Temp\\ipykernel_26556\\3232604270.py:1: DtypeWarning: Columns (14) have mixed types. Specify dtype option on import or set low_memory=False.\n",
      "  users = pd.read_csv('Data/Label_users.csv')\n"
     ]
    },
    {
     "data": {
      "text/plain": [
       "(1000000, 16)"
      ]
     },
     "execution_count": 4,
     "metadata": {},
     "output_type": "execute_result"
    }
   ],
   "source": [
    "users = pd.read_csv('Data/Label_users.csv')\n",
    "users.shape # We have a million user records with labels"
   ]
  },
  {
   "cell_type": "code",
   "execution_count": 5,
   "metadata": {},
   "outputs": [
    {
     "data": {
      "text/plain": [
       "Index(['Unnamed: 0', 'created_at', 'description', 'entities', 'id', 'location',\n",
       "       'name', 'pinned_tweet_id', 'profile_image_url', 'protected',\n",
       "       'public_metrics', 'url', 'username', 'verified', 'withheld', 'label'],\n",
       "      dtype='object')"
      ]
     },
     "execution_count": 5,
     "metadata": {},
     "output_type": "execute_result"
    }
   ],
   "source": [
    "users.columns"
   ]
  },
  {
   "cell_type": "markdown",
   "metadata": {},
   "source": [
    "Let's take a step and discussed the attributes of user.\n",
    "\n",
    "- created_at - When the account created\n",
    "- description - Personal bio\n",
    "- entities - User websites\n",
    "- id - User id\n",
    "- location - User location\n",
    "- name - displayed name\n",
    "- pinned_tweet_id\n",
    "- profile_image_url - Exactly what it souned.\n",
    "- protected\n",
    "- public_metrics - follower_count, following_count, tweet_count, and listed_count\n",
    "- url\n",
    "- username\n",
    "- verified\n",
    "- withheld\n",
    "- label "
   ]
  },
  {
   "cell_type": "code",
   "execution_count": 8,
   "metadata": {},
   "outputs": [
    {
     "name": "stderr",
     "output_type": "stream",
     "text": [
      "C:\\Users\\wue77\\AppData\\Local\\Temp\\ipykernel_26556\\3671843404.py:1: FutureWarning: Series.__getitem__ treating keys as positions is deprecated. In a future version, integer keys will always be treated as labels (consistent with DataFrame behavior). To access a value by position, use `ser.iloc[pos]`\n",
      "  users.iloc[0][10]\n"
     ]
    },
    {
     "data": {
      "text/plain": [
       "\"{'followers_count': 7316, 'following_count': 215, 'tweet_count': 3098, 'listed_count': 69}\""
      ]
     },
     "execution_count": 8,
     "metadata": {},
     "output_type": "execute_result"
    }
   ],
   "source": [
    "users.iloc[0][10]"
   ]
  },
  {
   "cell_type": "code",
   "execution_count": 10,
   "metadata": {},
   "outputs": [
    {
     "name": "stdout",
     "output_type": "stream",
     "text": [
      "0\n"
     ]
    }
   ],
   "source": [
    "count_na = users['label'].isna().sum()\n",
    "print(count_na)"
   ]
  },
  {
   "cell_type": "markdown",
   "metadata": {},
   "source": [
    "#### Export a small chunk of data in github"
   ]
  },
  {
   "cell_type": "code",
   "execution_count": 10,
   "metadata": {},
   "outputs": [
    {
     "data": {
      "text/plain": [
       "(5000, 16)"
      ]
     },
     "execution_count": 10,
     "metadata": {},
     "output_type": "execute_result"
    }
   ],
   "source": [
    "data_chunk = users.loc[:4999]\n",
    "data_chunk.shape"
   ]
  },
  {
   "cell_type": "code",
   "execution_count": 14,
   "metadata": {},
   "outputs": [
    {
     "data": {
      "text/plain": [
       "Index(['Unnamed: 0', 'created_at', 'description', 'entities', 'id', 'location',\n",
       "       'name', 'pinned_tweet_id', 'profile_image_url', 'protected',\n",
       "       'public_metrics', 'url', 'username', 'verified', 'withheld', 'label'],\n",
       "      dtype='object')"
      ]
     },
     "execution_count": 14,
     "metadata": {},
     "output_type": "execute_result"
    }
   ],
   "source": [
    "data_chunk.columns"
   ]
  },
  {
   "cell_type": "code",
   "execution_count": 17,
   "metadata": {},
   "outputs": [
    {
     "data": {
      "text/html": [
       "<div>\n",
       "<style scoped>\n",
       "    .dataframe tbody tr th:only-of-type {\n",
       "        vertical-align: middle;\n",
       "    }\n",
       "\n",
       "    .dataframe tbody tr th {\n",
       "        vertical-align: top;\n",
       "    }\n",
       "\n",
       "    .dataframe thead th {\n",
       "        text-align: right;\n",
       "    }\n",
       "</style>\n",
       "<table border=\"1\" class=\"dataframe\">\n",
       "  <thead>\n",
       "    <tr style=\"text-align: right;\">\n",
       "      <th></th>\n",
       "      <th>created_at</th>\n",
       "      <th>description</th>\n",
       "      <th>entities</th>\n",
       "      <th>id</th>\n",
       "      <th>location</th>\n",
       "      <th>name</th>\n",
       "      <th>pinned_tweet_id</th>\n",
       "      <th>profile_image_url</th>\n",
       "      <th>protected</th>\n",
       "      <th>public_metrics</th>\n",
       "      <th>url</th>\n",
       "      <th>username</th>\n",
       "      <th>verified</th>\n",
       "      <th>withheld</th>\n",
       "      <th>label</th>\n",
       "    </tr>\n",
       "  </thead>\n",
       "  <tbody>\n",
       "    <tr>\n",
       "      <th>0</th>\n",
       "      <td>2020-01-16 02:02:55+00:00</td>\n",
       "      <td>Theoretical Computer Scientist. See also https...</td>\n",
       "      <td>{'url': {'urls': [{'start': 0, 'end': 23, 'url...</td>\n",
       "      <td>u1217628182611927040</td>\n",
       "      <td>Cambridge, MA</td>\n",
       "      <td>Boaz Barak</td>\n",
       "      <td>NaN</td>\n",
       "      <td>https://pbs.twimg.com/profile_images/125226236...</td>\n",
       "      <td>False</td>\n",
       "      <td>{'followers_count': 7316, 'following_count': 2...</td>\n",
       "      <td>https://t.co/BoMip9FF17</td>\n",
       "      <td>boazbaraktcs</td>\n",
       "      <td>False</td>\n",
       "      <td>NaN</td>\n",
       "      <td>human</td>\n",
       "    </tr>\n",
       "    <tr>\n",
       "      <th>1</th>\n",
       "      <td>2014-07-02 17:56:46+00:00</td>\n",
       "      <td>creative _</td>\n",
       "      <td>NaN</td>\n",
       "      <td>u2664730894</td>\n",
       "      <td>🎈</td>\n",
       "      <td>olawale 💨</td>\n",
       "      <td>NaN</td>\n",
       "      <td>https://pbs.twimg.com/profile_images/147837638...</td>\n",
       "      <td>False</td>\n",
       "      <td>{'followers_count': 123, 'following_count': 10...</td>\n",
       "      <td>NaN</td>\n",
       "      <td>wale_io</td>\n",
       "      <td>False</td>\n",
       "      <td>NaN</td>\n",
       "      <td>human</td>\n",
       "    </tr>\n",
       "    <tr>\n",
       "      <th>2</th>\n",
       "      <td>2020-05-30 12:10:45+00:00</td>\n",
       "      <td>👽</td>\n",
       "      <td>NaN</td>\n",
       "      <td>u1266703520205549568</td>\n",
       "      <td>NaN</td>\n",
       "      <td>panagiota_.b</td>\n",
       "      <td>NaN</td>\n",
       "      <td>https://pbs.twimg.com/profile_images/142608606...</td>\n",
       "      <td>False</td>\n",
       "      <td>{'followers_count': 3, 'following_count': 62, ...</td>\n",
       "      <td>NaN</td>\n",
       "      <td>b_panagiota</td>\n",
       "      <td>False</td>\n",
       "      <td>NaN</td>\n",
       "      <td>human</td>\n",
       "    </tr>\n",
       "    <tr>\n",
       "      <th>3</th>\n",
       "      <td>2019-01-26 13:52:49+00:00</td>\n",
       "      <td>mama to maya. ABIM research pathway fellow @UV...</td>\n",
       "      <td>{'description': {'mentions': [{'start': 43, 'e...</td>\n",
       "      <td>u1089159225148882949</td>\n",
       "      <td>Charlottesville, VA</td>\n",
       "      <td>Jacqueline Hodges, MD MPH</td>\n",
       "      <td>NaN</td>\n",
       "      <td>https://pbs.twimg.com/profile_images/130229171...</td>\n",
       "      <td>False</td>\n",
       "      <td>{'followers_count': 350, 'following_count': 57...</td>\n",
       "      <td>NaN</td>\n",
       "      <td>jachodges_md</td>\n",
       "      <td>False</td>\n",
       "      <td>NaN</td>\n",
       "      <td>human</td>\n",
       "    </tr>\n",
       "    <tr>\n",
       "      <th>4</th>\n",
       "      <td>2009-04-30 19:01:42+00:00</td>\n",
       "      <td>Father / SWT Alumnus / Longhorn Fan</td>\n",
       "      <td>NaN</td>\n",
       "      <td>u36741729</td>\n",
       "      <td>United States</td>\n",
       "      <td>Matthew Stubblefield</td>\n",
       "      <td>NaN</td>\n",
       "      <td>https://pbs.twimg.com/profile_images/145808462...</td>\n",
       "      <td>True</td>\n",
       "      <td>{'followers_count': 240, 'following_count': 29...</td>\n",
       "      <td>NaN</td>\n",
       "      <td>Matthew_Brody</td>\n",
       "      <td>False</td>\n",
       "      <td>NaN</td>\n",
       "      <td>bot</td>\n",
       "    </tr>\n",
       "    <tr>\n",
       "      <th>...</th>\n",
       "      <td>...</td>\n",
       "      <td>...</td>\n",
       "      <td>...</td>\n",
       "      <td>...</td>\n",
       "      <td>...</td>\n",
       "      <td>...</td>\n",
       "      <td>...</td>\n",
       "      <td>...</td>\n",
       "      <td>...</td>\n",
       "      <td>...</td>\n",
       "      <td>...</td>\n",
       "      <td>...</td>\n",
       "      <td>...</td>\n",
       "      <td>...</td>\n",
       "      <td>...</td>\n",
       "    </tr>\n",
       "    <tr>\n",
       "      <th>4995</th>\n",
       "      <td>2011-03-23 21:21:26+00:00</td>\n",
       "      <td>El loco del barrio</td>\n",
       "      <td>NaN</td>\n",
       "      <td>u271099749</td>\n",
       "      <td>NaN</td>\n",
       "      <td>Nany Rodríguez</td>\n",
       "      <td>NaN</td>\n",
       "      <td>https://pbs.twimg.com/profile_images/132368823...</td>\n",
       "      <td>False</td>\n",
       "      <td>{'followers_count': 323, 'following_count': 20...</td>\n",
       "      <td>NaN</td>\n",
       "      <td>dannygost</td>\n",
       "      <td>False</td>\n",
       "      <td>NaN</td>\n",
       "      <td>human</td>\n",
       "    </tr>\n",
       "    <tr>\n",
       "      <th>4996</th>\n",
       "      <td>2016-03-08 09:45:40+00:00</td>\n",
       "      <td>🚘 Encuentra tu sitio libre para aparcar en la ...</td>\n",
       "      <td>{'url': {'urls': [{'start': 0, 'end': 23, 'url...</td>\n",
       "      <td>u707140218416185344</td>\n",
       "      <td>Madrid</td>\n",
       "      <td>Parkifast</td>\n",
       "      <td>NaN</td>\n",
       "      <td>https://pbs.twimg.com/profile_images/112539342...</td>\n",
       "      <td>False</td>\n",
       "      <td>{'followers_count': 2517, 'following_count': 1...</td>\n",
       "      <td>https://t.co/DfOdbcyPno</td>\n",
       "      <td>parkifast</td>\n",
       "      <td>False</td>\n",
       "      <td>NaN</td>\n",
       "      <td>human</td>\n",
       "    </tr>\n",
       "    <tr>\n",
       "      <th>4997</th>\n",
       "      <td>2015-10-05 00:17:07+00:00</td>\n",
       "      <td>NaN</td>\n",
       "      <td>NaN</td>\n",
       "      <td>u3866366116</td>\n",
       "      <td>NaN</td>\n",
       "      <td>Malan malan</td>\n",
       "      <td>NaN</td>\n",
       "      <td>https://pbs.twimg.com/profile_images/689137578...</td>\n",
       "      <td>False</td>\n",
       "      <td>{'followers_count': 36, 'following_count': 192...</td>\n",
       "      <td>NaN</td>\n",
       "      <td>MahmudMalan</td>\n",
       "      <td>False</td>\n",
       "      <td>NaN</td>\n",
       "      <td>human</td>\n",
       "    </tr>\n",
       "    <tr>\n",
       "      <th>4998</th>\n",
       "      <td>2012-04-09 21:45:55+00:00</td>\n",
       "      <td>SVP Clinical Solutions @Optum. Senior Lecturer...</td>\n",
       "      <td>{'description': {'mentions': [{'start': 23, 'e...</td>\n",
       "      <td>u549573235</td>\n",
       "      <td>UK / USA</td>\n",
       "      <td>Dominic King</td>\n",
       "      <td>1.319613e+18</td>\n",
       "      <td>https://pbs.twimg.com/profile_images/143774816...</td>\n",
       "      <td>False</td>\n",
       "      <td>{'followers_count': 6179, 'following_count': 1...</td>\n",
       "      <td>NaN</td>\n",
       "      <td>Dominic1King</td>\n",
       "      <td>False</td>\n",
       "      <td>NaN</td>\n",
       "      <td>human</td>\n",
       "    </tr>\n",
       "    <tr>\n",
       "      <th>4999</th>\n",
       "      <td>2017-12-02 18:35:12+00:00</td>\n",
       "      <td>@NYU Postdoctoral Fellow. Collective Belief an...</td>\n",
       "      <td>{'url': {'urls': [{'start': 0, 'end': 23, 'url...</td>\n",
       "      <td>u937027385505058822</td>\n",
       "      <td>New York, NY</td>\n",
       "      <td>Dr. Madalina Vlasceanu</td>\n",
       "      <td>1.400212e+18</td>\n",
       "      <td>https://pbs.twimg.com/profile_images/139610728...</td>\n",
       "      <td>False</td>\n",
       "      <td>{'followers_count': 884, 'following_count': 70...</td>\n",
       "      <td>https://t.co/5dO5cttkDv</td>\n",
       "      <td>vlasceanu_mada</td>\n",
       "      <td>False</td>\n",
       "      <td>NaN</td>\n",
       "      <td>human</td>\n",
       "    </tr>\n",
       "  </tbody>\n",
       "</table>\n",
       "<p>5000 rows × 15 columns</p>\n",
       "</div>"
      ],
      "text/plain": [
       "                     created_at  \\\n",
       "0     2020-01-16 02:02:55+00:00   \n",
       "1     2014-07-02 17:56:46+00:00   \n",
       "2     2020-05-30 12:10:45+00:00   \n",
       "3     2019-01-26 13:52:49+00:00   \n",
       "4     2009-04-30 19:01:42+00:00   \n",
       "...                         ...   \n",
       "4995  2011-03-23 21:21:26+00:00   \n",
       "4996  2016-03-08 09:45:40+00:00   \n",
       "4997  2015-10-05 00:17:07+00:00   \n",
       "4998  2012-04-09 21:45:55+00:00   \n",
       "4999  2017-12-02 18:35:12+00:00   \n",
       "\n",
       "                                            description  \\\n",
       "0     Theoretical Computer Scientist. See also https...   \n",
       "1                                            creative _   \n",
       "2                                                     👽   \n",
       "3     mama to maya. ABIM research pathway fellow @UV...   \n",
       "4                   Father / SWT Alumnus / Longhorn Fan   \n",
       "...                                                 ...   \n",
       "4995                                 El loco del barrio   \n",
       "4996  🚘 Encuentra tu sitio libre para aparcar en la ...   \n",
       "4997                                                NaN   \n",
       "4998  SVP Clinical Solutions @Optum. Senior Lecturer...   \n",
       "4999  @NYU Postdoctoral Fellow. Collective Belief an...   \n",
       "\n",
       "                                               entities                    id  \\\n",
       "0     {'url': {'urls': [{'start': 0, 'end': 23, 'url...  u1217628182611927040   \n",
       "1                                                   NaN           u2664730894   \n",
       "2                                                   NaN  u1266703520205549568   \n",
       "3     {'description': {'mentions': [{'start': 43, 'e...  u1089159225148882949   \n",
       "4                                                   NaN             u36741729   \n",
       "...                                                 ...                   ...   \n",
       "4995                                                NaN            u271099749   \n",
       "4996  {'url': {'urls': [{'start': 0, 'end': 23, 'url...   u707140218416185344   \n",
       "4997                                                NaN           u3866366116   \n",
       "4998  {'description': {'mentions': [{'start': 23, 'e...            u549573235   \n",
       "4999  {'url': {'urls': [{'start': 0, 'end': 23, 'url...   u937027385505058822   \n",
       "\n",
       "                 location                       name  pinned_tweet_id  \\\n",
       "0           Cambridge, MA                 Boaz Barak              NaN   \n",
       "1                       🎈                  olawale 💨              NaN   \n",
       "2                     NaN               panagiota_.b              NaN   \n",
       "3     Charlottesville, VA  Jacqueline Hodges, MD MPH              NaN   \n",
       "4           United States       Matthew Stubblefield              NaN   \n",
       "...                   ...                        ...              ...   \n",
       "4995                  NaN             Nany Rodríguez              NaN   \n",
       "4996               Madrid                  Parkifast              NaN   \n",
       "4997                  NaN                Malan malan              NaN   \n",
       "4998             UK / USA               Dominic King     1.319613e+18   \n",
       "4999         New York, NY     Dr. Madalina Vlasceanu     1.400212e+18   \n",
       "\n",
       "                                      profile_image_url  protected  \\\n",
       "0     https://pbs.twimg.com/profile_images/125226236...      False   \n",
       "1     https://pbs.twimg.com/profile_images/147837638...      False   \n",
       "2     https://pbs.twimg.com/profile_images/142608606...      False   \n",
       "3     https://pbs.twimg.com/profile_images/130229171...      False   \n",
       "4     https://pbs.twimg.com/profile_images/145808462...       True   \n",
       "...                                                 ...        ...   \n",
       "4995  https://pbs.twimg.com/profile_images/132368823...      False   \n",
       "4996  https://pbs.twimg.com/profile_images/112539342...      False   \n",
       "4997  https://pbs.twimg.com/profile_images/689137578...      False   \n",
       "4998  https://pbs.twimg.com/profile_images/143774816...      False   \n",
       "4999  https://pbs.twimg.com/profile_images/139610728...      False   \n",
       "\n",
       "                                         public_metrics  \\\n",
       "0     {'followers_count': 7316, 'following_count': 2...   \n",
       "1     {'followers_count': 123, 'following_count': 10...   \n",
       "2     {'followers_count': 3, 'following_count': 62, ...   \n",
       "3     {'followers_count': 350, 'following_count': 57...   \n",
       "4     {'followers_count': 240, 'following_count': 29...   \n",
       "...                                                 ...   \n",
       "4995  {'followers_count': 323, 'following_count': 20...   \n",
       "4996  {'followers_count': 2517, 'following_count': 1...   \n",
       "4997  {'followers_count': 36, 'following_count': 192...   \n",
       "4998  {'followers_count': 6179, 'following_count': 1...   \n",
       "4999  {'followers_count': 884, 'following_count': 70...   \n",
       "\n",
       "                          url        username  verified withheld  label  \n",
       "0     https://t.co/BoMip9FF17    boazbaraktcs     False      NaN  human  \n",
       "1                         NaN         wale_io     False      NaN  human  \n",
       "2                         NaN     b_panagiota     False      NaN  human  \n",
       "3                         NaN    jachodges_md     False      NaN  human  \n",
       "4                         NaN   Matthew_Brody     False      NaN    bot  \n",
       "...                       ...             ...       ...      ...    ...  \n",
       "4995                      NaN       dannygost     False      NaN  human  \n",
       "4996  https://t.co/DfOdbcyPno       parkifast     False      NaN  human  \n",
       "4997                      NaN     MahmudMalan     False      NaN  human  \n",
       "4998                      NaN    Dominic1King     False      NaN  human  \n",
       "4999  https://t.co/5dO5cttkDv  vlasceanu_mada     False      NaN  human  \n",
       "\n",
       "[5000 rows x 15 columns]"
      ]
     },
     "execution_count": 17,
     "metadata": {},
     "output_type": "execute_result"
    }
   ],
   "source": [
    "data_chunk.drop(['Unnamed: 0'], axis=1)"
   ]
  },
  {
   "cell_type": "code",
   "execution_count": 18,
   "metadata": {},
   "outputs": [],
   "source": [
    "data_chunk.to_csv('Twitter.csv')"
   ]
  }
 ],
 "metadata": {
  "kernelspec": {
   "display_name": "base",
   "language": "python",
   "name": "python3"
  },
  "language_info": {
   "codemirror_mode": {
    "name": "ipython",
    "version": 3
   },
   "file_extension": ".py",
   "mimetype": "text/x-python",
   "name": "python",
   "nbconvert_exporter": "python",
   "pygments_lexer": "ipython3",
   "version": "3.12.4"
  }
 },
 "nbformat": 4,
 "nbformat_minor": 2
}

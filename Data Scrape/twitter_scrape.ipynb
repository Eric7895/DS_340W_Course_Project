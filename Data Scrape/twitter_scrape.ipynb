{
 "cells": [
  {
   "cell_type": "markdown",
   "metadata": {},
   "source": [
    "# Twitter Data Scrape\n",
    "This notebook focuses on scraping user profile data using user id and tag.\n",
    "The idea is to collect a list of user id associated with certain tag and collect information from the user profile using the list of user id. "
   ]
  },
  {
   "cell_type": "code",
   "execution_count": 1,
   "metadata": {},
   "outputs": [
    {
     "name": "stdout",
     "output_type": "stream",
     "text": [
      "12-Sep-24 11:35:59 - Note: NumExpr detected 22 cores but \"NUMEXPR_MAX_THREADS\" not set, so enforcing safe limit of 8.\n",
      "12-Sep-24 11:35:59 - NumExpr defaulting to 8 threads.\n"
     ]
    }
   ],
   "source": [
    "# Import libraries\n",
    "from ntscraper import Nitter\n",
    "import pandas as pd\n",
    "from pprint import pprint"
   ]
  },
  {
   "cell_type": "markdown",
   "metadata": {},
   "source": [
    "### Data Scrape using Nitter"
   ]
  },
  {
   "cell_type": "code",
   "execution_count": 2,
   "metadata": {},
   "outputs": [
    {
     "name": "stderr",
     "output_type": "stream",
     "text": [
      "Testing instances: 100%|██████████| 16/16 [00:11<00:00,  1.36it/s]"
     ]
    },
    {
     "name": "stdout",
     "output_type": "stream",
     "text": [
      "12-Sep-24 11:36:11 - No instance specified, using random instance https://nitter.lucabased.xyz\n"
     ]
    },
    {
     "name": "stderr",
     "output_type": "stream",
     "text": [
      "\n"
     ]
    },
    {
     "name": "stdout",
     "output_type": "stream",
     "text": [
      "12-Sep-24 11:36:26 - Current stats for PresidentialDebate2024: 5 tweets, 0 threads...\n"
     ]
    }
   ],
   "source": [
    "# Set up scraper\n",
    "scraper = Nitter(log_level=1, skip_instance_check=False)\n",
    "\n",
    "# Extract user id associated with certain hashtag\n",
    "twitter_hash_tweets = scraper.get_tweets(\"PresidentialDebate2024\", mode = \"hashtag\", number = 5)"
   ]
  },
  {
   "cell_type": "code",
   "execution_count": 3,
   "metadata": {},
   "outputs": [
    {
     "name": "stdout",
     "output_type": "stream",
     "text": [
      "{'threads': [],\n",
      " 'tweets': [{'date': 'Sep 12, 2024 · 3:36 PM UTC',\n",
      "             'external-link': '',\n",
      "             'gifs': [],\n",
      "             'is-pinned': False,\n",
      "             'is-retweet': False,\n",
      "             'link': 'https://twitter.com/FOmyronpitts/status/1834254661685067865#m',\n",
      "             'pictures': [],\n",
      "             'quoted-post': {},\n",
      "             'replying-to': [],\n",
      "             'stats': {'comments': 0, 'likes': 0, 'quotes': 0, 'retweets': 0},\n",
      "             'text': 'This was not the first time that Harris trolled Trump on '\n",
      "                     'his crowd size ...  Nor was it the first time that a '\n",
      "                     'strong, female candidate debated Trump and exposed his '\n",
      "                     'superficial nature.  #PresidentialDebate2024 '\n",
      "                     '#KamalaHarris #DonaldTrump #HillaryClinton '\n",
      "                     'https://www.fayobserver.com/story/opinion/2024/09/12/kamala-harris-beats-trump-in-debate-fayetteville-crowd-cheers/75182980007/',\n",
      "             'user': {'avatar': 'https://pbs.twimg.com/profile_images/1351937197918793728/ksU1VlAv_bigger.jpg',\n",
      "                      'name': 'Myron B. Pitts',\n",
      "                      'profile_id': '1351937197918793728',\n",
      "                      'username': '@FOmyronpitts'},\n",
      "             'videos': []},\n",
      "            {'date': 'Sep 11, 2024 · 1:56 AM UTC',\n",
      "             'external-link': '',\n",
      "             'gifs': [],\n",
      "             'is-pinned': False,\n",
      "             'is-retweet': True,\n",
      "             'link': 'https://twitter.com/AfrikanKing_/status/1833686075878826359#m',\n",
      "             'pictures': [],\n",
      "             'quoted-post': {},\n",
      "             'replying-to': [],\n",
      "             'stats': {'comments': 54,\n",
      "                       'likes': 35468,\n",
      "                       'quotes': 139,\n",
      "                       'retweets': 5071},\n",
      "             'text': 'Me every time Kamala speaks. #PresidentialDebate2024',\n",
      "             'user': {'avatar': 'https://pbs.twimg.com/profile_images/1696220092894212096/OGcXyO--_bigger.jpg',\n",
      "                      'name': 'Prezi Banks. \\uea00🐻🇬🇭',\n",
      "                      'profile_id': '1696220092894212096',\n",
      "                      'username': '@AfrikanKing_'},\n",
      "             'videos': ['https://video.twimg.com/amplify_video/1833686025069084672/pl/1GZUppecXvfGdeLf.m3u8?tag=16']},\n",
      "            {'date': 'Sep 12, 2024 · 5:38 AM UTC',\n",
      "             'external-link': '',\n",
      "             'gifs': [],\n",
      "             'is-pinned': False,\n",
      "             'is-retweet': True,\n",
      "             'link': 'https://twitter.com/janninereid1/status/1834104395057037579#m',\n",
      "             'pictures': ['https://pbs.twimg.com/media/GXQMOnUbgAAWA4R.jpg'],\n",
      "             'quoted-post': {},\n",
      "             'replying-to': [],\n",
      "             'stats': {'comments': 20,\n",
      "                       'likes': 446,\n",
      "                       'quotes': 20,\n",
      "                       'retweets': 475},\n",
      "             'text': \"People who AREN'T on X or aren't following politics \"\n",
      "                     'believe the stuff these \" news\" channels are saying.  '\n",
      "                     'Below is an example of what many of those Americans '\n",
      "                     'would NEVER know about.⬇️  #PresidentialDebate2024 '\n",
      "                     '#cbsnews #MagaMemeQueen 👑',\n",
      "             'user': {'avatar': 'https://pbs.twimg.com/profile_images/1618711377992101890/RY_0VEw1_bigger.jpg',\n",
      "                      'name': 'Jannine.. #MagaMemeQueen ™️ 👑🇺🇸',\n",
      "                      'profile_id': '1618711377992101890',\n",
      "                      'username': '@janninereid1'},\n",
      "             'videos': []},\n",
      "            {'date': 'Sep 11, 2024 · 2:36 AM UTC',\n",
      "             'external-link': '',\n",
      "             'gifs': [],\n",
      "             'is-pinned': False,\n",
      "             'is-retweet': True,\n",
      "             'link': 'https://twitter.com/tmprowell/status/1833696208516178170#m',\n",
      "             'pictures': [],\n",
      "             'quoted-post': {},\n",
      "             'replying-to': [],\n",
      "             'stats': {'comments': 97,\n",
      "                       'likes': 10328,\n",
      "                       'quotes': 86,\n",
      "                       'retweets': 3856},\n",
      "             'text': 'I was a dr before the Affordable Care Act. And people w/ '\n",
      "                     'cancer did hit lifetime caps & had further treatment '\n",
      "                     'denied by insurers. They were dropped from plans, '\n",
      "                     'declared bankruptcy, & died. We are NEVER EVER going '\n",
      "                     'back to that. #PresidentialDebate2024 #MedTwitter',\n",
      "             'user': {'avatar': 'https://pbs.twimg.com/profile_images/1352753103926390788/f0sFNRhL_bigger.jpg',\n",
      "                      'name': 'Tatiana Prowell, MD',\n",
      "                      'profile_id': '1352753103926390788',\n",
      "                      'username': '@tmprowell'},\n",
      "             'videos': []},\n",
      "            {'date': 'Sep 12, 2024 · 3:03 PM UTC',\n",
      "             'external-link': '',\n",
      "             'gifs': [],\n",
      "             'is-pinned': False,\n",
      "             'is-retweet': True,\n",
      "             'link': 'https://twitter.com/autumnsdad1/status/1834246425162514933#m',\n",
      "             'pictures': [],\n",
      "             'quoted-post': {},\n",
      "             'replying-to': [],\n",
      "             'stats': {'comments': 2, 'likes': 2, 'quotes': 0, 'retweets': 1},\n",
      "             'text': 'Even Robert Kennedy says Harris beat Trump in the '\n",
      "                     'debate..love his honesty and wonder if he has second '\n",
      "                     'thoughts on supporting Trump after he failed to even '\n",
      "                     'bring up MAHA .. a huge thing Kennedy believes in..I’m '\n",
      "                     'voting for RFK.. #PresidentialDebate2024',\n",
      "             'user': {'avatar': 'https://pbs.twimg.com/profile_images/1804676912901500928/zY6xw_jT_bigger.jpg',\n",
      "                      'name': 'Chris from Massachusetts AKA TommyboyTrader',\n",
      "                      'profile_id': '1804676912901500928',\n",
      "                      'username': '@autumnsdad1'},\n",
      "             'videos': ['https://video.twimg.com/amplify_video/1833968355759587328/pl/wHAEmaymj32jxVCw.m3u8?tag=14&v=136']}]}\n"
     ]
    }
   ],
   "source": [
    "pprint(twitter_hash_tweets)"
   ]
  },
  {
   "cell_type": "markdown",
   "metadata": {},
   "source": [
    "### Explore data structure from scrape result"
   ]
  },
  {
   "cell_type": "code",
   "execution_count": 4,
   "metadata": {},
   "outputs": [
    {
     "name": "stdout",
     "output_type": "stream",
     "text": [
      "<class 'dict'>\n"
     ]
    },
    {
     "data": {
      "text/plain": [
       "5"
      ]
     },
     "execution_count": 4,
     "metadata": {},
     "output_type": "execute_result"
    }
   ],
   "source": [
    "print(type(twitter_hash_tweets))\n",
    "len(twitter_hash_tweets[\"tweets\"])"
   ]
  },
  {
   "cell_type": "code",
   "execution_count": 5,
   "metadata": {},
   "outputs": [
    {
     "name": "stdout",
     "output_type": "stream",
     "text": [
      "<class 'list'>\n",
      "13\n"
     ]
    }
   ],
   "source": [
    "print(type(twitter_hash_tweets[\"tweets\"]))\n",
    "print(len(twitter_hash_tweets[\"tweets\"][0]))"
   ]
  },
  {
   "cell_type": "markdown",
   "metadata": {},
   "source": [
    "Based on the executed lines of code, the resulting tweets from Nitter stores in the form of python dictionary and the tweets data within the dictionary appears to be python list objects."
   ]
  },
  {
   "cell_type": "code",
   "execution_count": 6,
   "metadata": {},
   "outputs": [
    {
     "name": "stdout",
     "output_type": "stream",
     "text": [
      "link\n",
      "text\n",
      "user\n",
      "date\n",
      "is-retweet\n",
      "is-pinned\n",
      "external-link\n",
      "replying-to\n",
      "quoted-post\n",
      "stats\n",
      "pictures\n",
      "videos\n",
      "gifs\n",
      "----------------------------------------\n",
      "<class 'dict'>\n"
     ]
    }
   ],
   "source": [
    "# loop through the list object to see what kinds of object are stored in the list\n",
    "for i in twitter_hash_tweets['tweets'][0]:\n",
    "    print(i)\n",
    "print('----------------------------------------')\n",
    "print(type(twitter_hash_tweets['tweets'][0]))"
   ]
  },
  {
   "cell_type": "code",
   "execution_count": 7,
   "metadata": {},
   "outputs": [
    {
     "name": "stdout",
     "output_type": "stream",
     "text": [
      "<class 'dict'>\n",
      "{'name': 'Myron B. Pitts', 'username': '@FOmyronpitts', 'profile_id': '1351937197918793728', 'avatar': 'https://pbs.twimg.com/profile_images/1351937197918793728/ksU1VlAv_bigger.jpg'}\n"
     ]
    }
   ],
   "source": [
    "print(type(twitter_hash_tweets['tweets'][0]['user']))\n",
    "print(twitter_hash_tweets['tweets'][0]['user'])"
   ]
  },
  {
   "cell_type": "code",
   "execution_count": 8,
   "metadata": {},
   "outputs": [
    {
     "name": "stdout",
     "output_type": "stream",
     "text": [
      "@FOmyronpitts\n"
     ]
    }
   ],
   "source": [
    "print(twitter_hash_tweets['tweets'][0]['user']['username'])"
   ]
  },
  {
   "cell_type": "markdown",
   "metadata": {},
   "source": [
    "Now we have knows fully regarding the result of the scrape. Let's extract all the user id"
   ]
  },
  {
   "cell_type": "markdown",
   "metadata": {},
   "source": [
    "### Extract user id"
   ]
  },
  {
   "cell_type": "code",
   "execution_count": 9,
   "metadata": {},
   "outputs": [],
   "source": [
    "# Helper function\n",
    "def extract_element_from_list(init_list:list, element:str) -> list:\n",
    "    \"\"\" \n",
    "    The purpose of the function is to extract certain element from the initial list\n",
    "    Elements included in tweet: (link, text, user, date, is-retweet, is-pinned, external-link, replying-to, quoted-post, stats, pictures, videos, gifs)\n",
    "    Elements includde in users: (name, username, profile_id, avatar)\n",
    "\n",
    "    init_list - A list stores a list of dictionary object. \n",
    "    elements - A string of the exact element listed above.\n",
    "    result - A list of detected element\n",
    "    \"\"\"\n",
    "    result = []\n",
    "    for i in init_list:\n",
    "        result.append(i[element]) # i must be dictionary \n",
    "    return result"
   ]
  },
  {
   "cell_type": "code",
   "execution_count": 10,
   "metadata": {},
   "outputs": [],
   "source": [
    "tweets = twitter_hash_tweets[\"tweets\"]\n",
    "text_of_tweets = extract_element_from_list(tweets, 'text')\n",
    "users = extract_element_from_list(tweets, 'user')\n",
    "ids = extract_element_from_list(users, 'username')"
   ]
  },
  {
   "cell_type": "code",
   "execution_count": 11,
   "metadata": {},
   "outputs": [],
   "source": [
    "f = open('ids.txt', 'w')\n",
    "for i in ids:\n",
    "    f.write(f'{i}\\n')\n",
    "f.close()"
   ]
  },
  {
   "cell_type": "markdown",
   "metadata": {},
   "source": [
    "### Extract user profile"
   ]
  },
  {
   "cell_type": "code",
   "execution_count": 19,
   "metadata": {},
   "outputs": [],
   "source": [
    "# Helper function\n",
    "def remove_character(init_list:list, character:str) -> list:\n",
    "    \"\"\" \n",
    "    The purpose is to remove a character from all elements within the init_list.\n",
    "\n",
    "    init_list - a list of strings\n",
    "    charactuer - string value\n",
    "    result - a list of strings with the character removed. \n",
    "    \"\"\"\n",
    "    result = []\n",
    "    for i in init_list:\n",
    "        if i.count(character) > 0:\n",
    "            after = i.replace(character, '', 1) # Only remove the first appearance\n",
    "            result.append(after)\n",
    "    \n",
    "    return result\n",
    "\n",
    "def extract_profile(list_of_ids:list, text_of_tweets:list) -> pd.DataFrame:\n",
    "    \"\"\" \n",
    "    The purpose is to extract user profile information using their id from a list_of_ids and add the text of their tweets to the dataframe as well. \n",
    "    \n",
    "    list_of_ids - a list of ids\n",
    "    result - a panda dataframe \n",
    "    text_of_tweets - a list of text of tweets that corresponds to the ids in order.\n",
    "    \"\"\"\n",
    "    scraper = Nitter(log_level=0, skip_instance_check=False)\n",
    "    result_list = []\n",
    "    index_id = 0\n",
    "    for id in list_of_ids:\n",
    "        temp = []\n",
    "        try:\n",
    "            scrape = scraper.get_profile_info(id, mode='detail')\n",
    "        except ValueError:\n",
    "            index_id += 1\n",
    "            continue # Might have a problem finding an instance\n",
    "        if scrape is None:\n",
    "            index_id += 1\n",
    "            continue # Skip all none data to avoid error\n",
    "        bio = scrape['bio']\n",
    "        id = scrape['id']\n",
    "        joined = scrape['joined']\n",
    "        location = scrape['location']\n",
    "        name = scrape['name']\n",
    "        num_follower = scrape['stats']['followers']\n",
    "        num_following = scrape['stats']['following']\n",
    "        likes = scrape['stats']['likes']\n",
    "        media = scrape['stats']['media']\n",
    "        num_tweets = scrape['stats']['tweets']\n",
    "        username = scrape['username']\n",
    "        website = scrape['website']\n",
    "        text = text_of_tweets[index_id]\n",
    "\n",
    "        index_id += 1\n",
    "\n",
    "        temp.append({\n",
    "            'id': id,\n",
    "            'username': username,\n",
    "            'bio': bio,\n",
    "            'joined_date': joined,\n",
    "            'location': location,\n",
    "            'name': name,\n",
    "            'num_follower': num_follower,\n",
    "            'num_following': num_following,\n",
    "            'likes': likes,\n",
    "            'media': media,\n",
    "            'num_tweets': num_tweets,\n",
    "            'website': website,\n",
    "            'text': text\n",
    "        })\n",
    "\n",
    "        result_list.extend(temp)\n",
    "    \n",
    "    return pd.DataFrame(result_list)\n",
    "\n",
    "def check_exist_ids(list_of_ids:list, df:pd.DataFrame) -> tuple:\n",
    "    \"\"\" \n",
    "    The purpose of the function is to deleted scrape id from the list of id that needs to be scrape. \n",
    "\n",
    "    list_of_ids - a list of ids\n",
    "    df - a pandas dataframe that stored all the records of scraped data\n",
    "    result - a tuple with a list of id that needs to be scrape and a list of index where we used to delete certain tweet text.\n",
    "    \"\"\"\n",
    "    old_ids = list(df.loc[:, 'username'])\n",
    "    index = []\n",
    "    temp = 0\n",
    "    for id in list_of_ids:\n",
    "        if old_ids.count(id) > 0:\n",
    "            list_of_ids.remove(id)\n",
    "            index.append(temp)\n",
    "        temp += 1\n",
    "\n",
    "    return (list_of_ids, index)"
   ]
  },
  {
   "cell_type": "code",
   "execution_count": 20,
   "metadata": {},
   "outputs": [
    {
     "name": "stdout",
     "output_type": "stream",
     "text": [
      "['FOmyronpitts', 'janninereid1', 'autumnsdad1']\n",
      "['This was not the first time that Harris trolled Trump on his crowd size ...  Nor was it the first time that a strong, female candidate debated Trump and exposed his superficial nature.  #PresidentialDebate2024 #KamalaHarris #DonaldTrump #HillaryClinton https://www.fayobserver.com/story/opinion/2024/09/12/kamala-harris-beats-trump-in-debate-fayetteville-crowd-cheers/75182980007/', 'People who AREN\\'T on X or aren\\'t following politics believe the stuff these \" news\" channels are saying.  Below is an example of what many of those Americans would NEVER know about.⬇️  #PresidentialDebate2024 #cbsnews #MagaMemeQueen 👑', 'Even Robert Kennedy says Harris beat Trump in the debate..love his honesty and wonder if he has second thoughts on supporting Trump after he failed to even bring up MAHA .. a huge thing Kennedy believes in..I’m voting for RFK.. #PresidentialDebate2024']\n"
     ]
    }
   ],
   "source": [
    "old_df = pd.read_csv('users.csv')\n",
    "need_ids = check_exist_ids(ids, old_df)\n",
    "actual_ids = remove_character(need_ids[0], '@')\n",
    "\n",
    "for i in range(len(need_ids[1])):\n",
    "    text_of_tweets.pop(need_ids[1][i])\n",
    "\n",
    "print(actual_ids)\n",
    "print(text_of_tweets)"
   ]
  },
  {
   "cell_type": "code",
   "execution_count": 24,
   "metadata": {},
   "outputs": [
    {
     "name": "stderr",
     "output_type": "stream",
     "text": [
      "Testing instances: 100%|██████████| 16/16 [00:10<00:00,  1.49it/s]\n"
     ]
    },
    {
     "name": "stdout",
     "output_type": "stream",
     "text": [
      "12-Sep-24 13:35:57 - Empty page on https://nitter.lucabased.xyz\n",
      "12-Sep-24 13:41:48 - Empty page on https://nitter.lucabased.xyz\n",
      "12-Sep-24 13:41:51 - Fetching error: User \"janninereid1\" not found\n",
      "12-Sep-24 13:41:55 - Fetching error: Instance has been rate limited.Use another instance or try again later.\n"
     ]
    }
   ],
   "source": [
    "df = extract_profile(actual_ids, text_of_tweets)"
   ]
  },
  {
   "cell_type": "code",
   "execution_count": 25,
   "metadata": {},
   "outputs": [
    {
     "data": {
      "text/html": [
       "<div>\n",
       "<style scoped>\n",
       "    .dataframe tbody tr th:only-of-type {\n",
       "        vertical-align: middle;\n",
       "    }\n",
       "\n",
       "    .dataframe tbody tr th {\n",
       "        vertical-align: top;\n",
       "    }\n",
       "\n",
       "    .dataframe thead th {\n",
       "        text-align: right;\n",
       "    }\n",
       "</style>\n",
       "<table border=\"1\" class=\"dataframe\">\n",
       "  <thead>\n",
       "    <tr style=\"text-align: right;\">\n",
       "      <th></th>\n",
       "      <th>id</th>\n",
       "      <th>username</th>\n",
       "      <th>bio</th>\n",
       "      <th>joined_date</th>\n",
       "      <th>location</th>\n",
       "      <th>name</th>\n",
       "      <th>num_follower</th>\n",
       "      <th>num_following</th>\n",
       "      <th>likes</th>\n",
       "      <th>media</th>\n",
       "      <th>num_tweets</th>\n",
       "      <th>website</th>\n",
       "      <th>text</th>\n",
       "    </tr>\n",
       "  </thead>\n",
       "  <tbody>\n",
       "    <tr>\n",
       "      <th>0</th>\n",
       "      <td>19027021</td>\n",
       "      <td>@FOmyronpitts</td>\n",
       "      <td>Father, Husband. Opinion Editor at @fayobserve...</td>\n",
       "      <td>4:16 PM - 15 Jan 2009</td>\n",
       "      <td>Fayetteville, NC</td>\n",
       "      <td>Myron B. Pitts</td>\n",
       "      <td>4634</td>\n",
       "      <td>4269</td>\n",
       "      <td>12871</td>\n",
       "      <td>0</td>\n",
       "      <td>40852</td>\n",
       "      <td>https://www.fayobserver.com/staff/5491811002/m...</td>\n",
       "      <td>This was not the first time that Harris trolle...</td>\n",
       "    </tr>\n",
       "  </tbody>\n",
       "</table>\n",
       "</div>"
      ],
      "text/plain": [
       "         id       username                                                bio  \\\n",
       "0  19027021  @FOmyronpitts  Father, Husband. Opinion Editor at @fayobserve...   \n",
       "\n",
       "             joined_date          location            name  num_follower  \\\n",
       "0  4:16 PM - 15 Jan 2009  Fayetteville, NC  Myron B. Pitts          4634   \n",
       "\n",
       "   num_following  likes  media  num_tweets  \\\n",
       "0           4269  12871      0       40852   \n",
       "\n",
       "                                             website  \\\n",
       "0  https://www.fayobserver.com/staff/5491811002/m...   \n",
       "\n",
       "                                                text  \n",
       "0  This was not the first time that Harris trolle...  "
      ]
     },
     "metadata": {},
     "output_type": "display_data"
    }
   ],
   "source": [
    "display(df)"
   ]
  },
  {
   "cell_type": "markdown",
   "metadata": {},
   "source": [
    "### Update Dataframe"
   ]
  },
  {
   "cell_type": "code",
   "execution_count": 29,
   "metadata": {},
   "outputs": [],
   "source": [
    "new_df = pd.concat([df, old_df], ignore_index=True, sort=False)\n",
    "new_df.to_csv('users.csv')"
   ]
  }
 ],
 "metadata": {
  "kernelspec": {
   "display_name": "base",
   "language": "python",
   "name": "python3"
  },
  "language_info": {
   "codemirror_mode": {
    "name": "ipython",
    "version": 3
   },
   "file_extension": ".py",
   "mimetype": "text/x-python",
   "name": "python",
   "nbconvert_exporter": "python",
   "pygments_lexer": "ipython3",
   "version": "3.12.4"
  }
 },
 "nbformat": 4,
 "nbformat_minor": 2
}

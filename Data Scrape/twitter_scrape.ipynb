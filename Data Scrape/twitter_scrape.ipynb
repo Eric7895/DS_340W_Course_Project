{
 "cells": [
  {
   "cell_type": "markdown",
   "metadata": {},
   "source": [
    "# Twitter Data Scrape\n",
    "This notebook focuses on scraping user profile data using user id and tag.\n",
    "The idea is to collect a list of user id associated with certain tag and collect information from the user profile using the list of user id. "
   ]
  },
  {
   "cell_type": "code",
   "execution_count": 1,
   "metadata": {},
   "outputs": [
    {
     "name": "stdout",
     "output_type": "stream",
     "text": [
      "11-Sep-24 18:03:23 - Note: NumExpr detected 22 cores but \"NUMEXPR_MAX_THREADS\" not set, so enforcing safe limit of 8.\n",
      "11-Sep-24 18:03:23 - NumExpr defaulting to 8 threads.\n"
     ]
    }
   ],
   "source": [
    "# Import libraries\n",
    "from ntscraper import Nitter\n",
    "import pandas as pd\n",
    "from pprint import pprint"
   ]
  },
  {
   "cell_type": "markdown",
   "metadata": {},
   "source": [
    "### Data Scrape using Nitter"
   ]
  },
  {
   "cell_type": "code",
   "execution_count": 4,
   "metadata": {},
   "outputs": [
    {
     "name": "stderr",
     "output_type": "stream",
     "text": [
      "Testing instances: 100%|██████████| 16/16 [00:20<00:00,  1.30s/it]"
     ]
    },
    {
     "name": "stdout",
     "output_type": "stream",
     "text": [
      "11-Sep-24 18:17:14 - No instance specified, using random instance https://nitter.lucabased.xyz\n"
     ]
    },
    {
     "name": "stderr",
     "output_type": "stream",
     "text": [
      "\n"
     ]
    },
    {
     "name": "stdout",
     "output_type": "stream",
     "text": [
      "11-Sep-24 18:17:26 - Current stats for PresidentialDebate2024: 9 tweets, 0 threads...\n",
      "11-Sep-24 18:17:37 - Current stats for PresidentialDebate2024: 10 tweets, 0 threads...\n"
     ]
    }
   ],
   "source": [
    "# Set up scraper\n",
    "scraper = Nitter(log_level=1, skip_instance_check=False)\n",
    "\n",
    "# Extract user id associated with certain hashtag\n",
    "twitter_hash_tweets = scraper.get_tweets(\"PresidentialDebate2024\", mode = \"hashtag\", number = 10)"
   ]
  },
  {
   "cell_type": "code",
   "execution_count": 5,
   "metadata": {},
   "outputs": [
    {
     "name": "stdout",
     "output_type": "stream",
     "text": [
      "{'threads': [],\n",
      " 'tweets': [{'date': 'Sep 11, 2024 · 2:36 AM UTC',\n",
      "             'external-link': '',\n",
      "             'gifs': [],\n",
      "             'is-pinned': False,\n",
      "             'is-retweet': True,\n",
      "             'link': 'https://twitter.com/tmprowell/status/1833696208516178170#m',\n",
      "             'pictures': [],\n",
      "             'quoted-post': {},\n",
      "             'replying-to': [],\n",
      "             'stats': {'comments': 21,\n",
      "                       'likes': 2309,\n",
      "                       'quotes': 20,\n",
      "                       'retweets': 667},\n",
      "             'text': 'I was a dr before the Affordable Care Act. And people w/ '\n",
      "                     'cancer did hit lifetime caps & had further treatment '\n",
      "                     'denied by insurers. They were dropped from plans, '\n",
      "                     'declared bankruptcy, & died. We are NEVER EVER going '\n",
      "                     'back to that. #PresidentialDebate2024 #MedTwitter',\n",
      "             'user': {'avatar': 'https://pbs.twimg.com/profile_images/1352753103926390788/f0sFNRhL_bigger.jpg',\n",
      "                      'name': 'Tatiana Prowell, MD',\n",
      "                      'profile_id': '1352753103926390788',\n",
      "                      'username': '@tmprowell'},\n",
      "             'videos': []},\n",
      "            {'date': 'Sep 11, 2024 · 10:16 PM UTC',\n",
      "             'external-link': '',\n",
      "             'gifs': [],\n",
      "             'is-pinned': False,\n",
      "             'is-retweet': False,\n",
      "             'link': 'https://twitter.com/Princeofloango/status/1833993153881272348#m',\n",
      "             'pictures': [],\n",
      "             'quoted-post': {},\n",
      "             'replying-to': [],\n",
      "             'stats': {'comments': 0, 'likes': 0, 'quotes': 0, 'retweets': 0},\n",
      "             'text': '#Trump #Trump2024 #PresidentialDebate2024 #abcnews '\n",
      "                     '#fakenewsmedia #rigged #KamalaHarris',\n",
      "             'user': {'avatar': 'https://pbs.twimg.com/profile_images/1771473977698840576/QSwjc6g-_bigger.jpg',\n",
      "                      'name': 'PrinceOfLoango🏀🏁',\n",
      "                      'profile_id': '1771473977698840576',\n",
      "                      'username': '@Princeofloango'},\n",
      "             'videos': ['https://video.twimg.com/ext_tw_video/1833993087795769344/pu/pl/FEV-XAWWENTkOanc.m3u8?tag=12']},\n",
      "            {'date': 'Sep 11, 2024 · 1:56 AM UTC',\n",
      "             'external-link': '',\n",
      "             'gifs': [],\n",
      "             'is-pinned': False,\n",
      "             'is-retweet': True,\n",
      "             'link': 'https://twitter.com/AfrikanKing_/status/1833686075878826359#m',\n",
      "             'pictures': [],\n",
      "             'quoted-post': {},\n",
      "             'replying-to': [],\n",
      "             'stats': {'comments': 36,\n",
      "                       'likes': 17739,\n",
      "                       'quotes': 96,\n",
      "                       'retweets': 2719},\n",
      "             'text': 'Me every time Kamala speaks. #PresidentialDebate2024',\n",
      "             'user': {'avatar': 'https://pbs.twimg.com/profile_images/1696220092894212096/OGcXyO--_bigger.jpg',\n",
      "                      'name': 'Prezi Banks. \\uea00🐻🇬🇭',\n",
      "                      'profile_id': '1696220092894212096',\n",
      "                      'username': '@AfrikanKing_'},\n",
      "             'videos': ['https://video.twimg.com/amplify_video/1833686025069084672/pl/1GZUppecXvfGdeLf.m3u8?tag=16']},\n",
      "            {'date': 'Sep 11, 2024 · 1:11 AM UTC',\n",
      "             'external-link': '',\n",
      "             'gifs': [],\n",
      "             'is-pinned': False,\n",
      "             'is-retweet': True,\n",
      "             'link': 'https://twitter.com/savannah_elaine/status/1833674757742510525#m',\n",
      "             'pictures': ['https://pbs.twimg.com/media/GXKFeXDXgAAD2gj.jpg'],\n",
      "             'quoted-post': {},\n",
      "             'replying-to': [],\n",
      "             'stats': {'comments': 71,\n",
      "                       'likes': 27502,\n",
      "                       'quotes': 97,\n",
      "                       'retweets': 4191},\n",
      "             'text': '“Can we talk about the economy” Trump: “THE IMMIGRANTS!” '\n",
      "                     '#PresidentialDebate2024',\n",
      "             'user': {'avatar': 'https://pbs.twimg.com/profile_images/1735163177246056448/YRW0DNAk_bigger.jpg',\n",
      "                      'name': 'Savannah Williams',\n",
      "                      'profile_id': '1735163177246056448',\n",
      "                      'username': '@savannah_elaine'},\n",
      "             'videos': []},\n",
      "            {'date': 'Sep 11, 2024 · 10:16 PM UTC',\n",
      "             'external-link': '',\n",
      "             'gifs': [],\n",
      "             'is-pinned': False,\n",
      "             'is-retweet': False,\n",
      "             'link': 'https://twitter.com/PMACampbell/status/1833992981596061840#m',\n",
      "             'pictures': ['https://pbs.twimg.com/media/GXOm5JgWgAE5nDt.jpg',\n",
      "                          'https://pbs.twimg.com/media/GXOm5LOXEAA1q8Z.jpg',\n",
      "                          'https://pbs.twimg.com/media/GXOm5PHXoAEuHvq.jpg',\n",
      "                          'https://pbs.twimg.com/media/GXOm5TGXcAAznbj.jpg'],\n",
      "             'quoted-post': {},\n",
      "             'replying-to': [],\n",
      "             'stats': {'comments': 0, 'likes': 0, 'quotes': 0, 'retweets': 0},\n",
      "             'text': 'The memes!! #PresidentialDebate2024 '\n",
      "                     '#KamalaBringingDownTheDon #TrumpIsUnfitForOffice '\n",
      "                     '#FactChecking @VP Harris Wins the #PresidentialDebate ! '\n",
      "                     '🏆',\n",
      "             'user': {'avatar': 'https://pbs.twimg.com/profile_images/1080507900819329024/S7Cc8yOB_bigger.jpg',\n",
      "                      'name': 'Patrice Campbell',\n",
      "                      'profile_id': '1080507900819329024',\n",
      "                      'username': '@PMACampbell'},\n",
      "             'videos': []},\n",
      "            {'date': 'Sep 11, 2024 · 1:19 AM UTC',\n",
      "             'external-link': '',\n",
      "             'gifs': [],\n",
      "             'is-pinned': False,\n",
      "             'is-retweet': True,\n",
      "             'link': 'https://twitter.com/SISTASinZION/status/1833676796123807867#m',\n",
      "             'pictures': [],\n",
      "             'quoted-post': {},\n",
      "             'replying-to': [],\n",
      "             'stats': {'comments': 10,\n",
      "                       'likes': 170,\n",
      "                       'quotes': 0,\n",
      "                       'retweets': 11},\n",
      "             'text': 'Abortion in the 9th month? Execution after birth? This '\n",
      "                     'man can’t just sit in our faces and lie. Somebody call '\n",
      "                     'his nursing home and tell them to come get him. '\n",
      "                     '#dudeisold #PresidentialDebate2024 go @KamalaHarris @VP',\n",
      "             'user': {'avatar': 'https://pbs.twimg.com/profile_images/1268834098233004032/kMZtBbwh_bigger.jpg',\n",
      "                      'name': 'Sistas in Zion',\n",
      "                      'profile_id': '1268834098233004032',\n",
      "                      'username': '@SISTASinZION'},\n",
      "             'videos': []},\n",
      "            {'date': 'Sep 11, 2024 · 1:31 PM UTC',\n",
      "             'external-link': '',\n",
      "             'gifs': [],\n",
      "             'is-pinned': False,\n",
      "             'is-retweet': True,\n",
      "             'link': 'https://twitter.com/Garnet_2203/status/1833861015034806428#m',\n",
      "             'pictures': [],\n",
      "             'quoted-post': {},\n",
      "             'replying-to': [],\n",
      "             'stats': {'comments': 10,\n",
      "                       'likes': 509,\n",
      "                       'quotes': 9,\n",
      "                       'retweets': 149},\n",
      "             'text': '“Who’s going to tell him that the job he’s currently '\n",
      "                     'seeking might be one of those black jobs…? '\n",
      "                     '👏👏👏👏👇#KamalaHarris #trumplost #PresidentialDebate2024 '\n",
      "                     '#hamilton',\n",
      "             'user': {'avatar': 'https://pbs.twimg.com/profile_images/1501710961526427651/6aFsQiu0_bigger.jpg',\n",
      "                      'name': 'Bev',\n",
      "                      'profile_id': '1501710961526427651',\n",
      "                      'username': '@Garnet_2203'},\n",
      "             'videos': ['https://video.twimg.com/amplify_video/1833860948806832128/pl/K5kr4-Sn16CNTfh4.m3u8?tag=16']},\n",
      "            {'date': 'Sep 11, 2024 · 2:02 AM UTC',\n",
      "             'external-link': '',\n",
      "             'gifs': [],\n",
      "             'is-pinned': False,\n",
      "             'is-retweet': True,\n",
      "             'link': 'https://twitter.com/talleyberrybaby/status/1833687600294469995#m',\n",
      "             'pictures': [],\n",
      "             'quoted-post': {},\n",
      "             'replying-to': [],\n",
      "             'stats': {'comments': 17,\n",
      "                       'likes': 1117,\n",
      "                       'quotes': 24,\n",
      "                       'retweets': 183},\n",
      "             'text': 'KAMALA PLEASE STOP PROFESSING YOUR LOVE FOR ISREAL '\n",
      "                     '#PresidentialDebate2024',\n",
      "             'user': {'avatar': 'https://pbs.twimg.com/profile_images/1814694379925168128/OvnRZECr_bigger.jpg',\n",
      "                      'name': 'Grip Bayless✨',\n",
      "                      'profile_id': '1814694379925168128',\n",
      "                      'username': '@talleyberrybaby'},\n",
      "             'videos': []},\n",
      "            {'date': 'Sep 11, 2024 · 3:28 PM UTC',\n",
      "             'external-link': '',\n",
      "             'gifs': [],\n",
      "             'is-pinned': False,\n",
      "             'is-retweet': True,\n",
      "             'link': 'https://twitter.com/LucyBibb/status/1833890243247837458#m',\n",
      "             'pictures': [],\n",
      "             'quoted-post': {'date': 'Sep 11, 2024 · 3:00 PM UTC',\n",
      "                             'gifs': [],\n",
      "                             'link': 'https://twitter.com/ImMeme0/status/1833883371094651272#m',\n",
      "                             'pictures': [],\n",
      "                             'text': 'Did they really think Kamala wouldn’t '\n",
      "                                     'get busted?',\n",
      "                             'user': {'avatar': 'https://pbs.twimg.com/profile_images/1511105748671021065/h4NfG141_mini.jpg',\n",
      "                                      'name': 'I Meme Therefore I Am 🇺🇸',\n",
      "                                      'profile_id': '1511105748671021065',\n",
      "                                      'username': '@ImMeme0'},\n",
      "                             'videos': ['https://video.twimg.com/amplify_video/1833883299334254593/pl/_oFgJwtwYYeSlROc.m3u8?tag=16']},\n",
      "             'replying-to': [],\n",
      "             'stats': {'comments': 5, 'likes': 30, 'quotes': 2, 'retweets': 11},\n",
      "             'text': \"Kamala said you told me I couldn't bring notes into the \"\n",
      "                     \"debate, but you didn't tell me I couldn't get coached \"\n",
      "                     'via audio earrings.  I thought those earrings looked odd '\n",
      "                     'last night. #PresidentialDebate2024',\n",
      "             'user': {'avatar': 'https://pbs.twimg.com/profile_images/1459982991317516299/0IMIFgbb_bigger.jpg',\n",
      "                      'name': 'Lucy Bibb 🇺🇸',\n",
      "                      'profile_id': '1459982991317516299',\n",
      "                      'username': '@LucyBibb'},\n",
      "             'videos': []},\n",
      "            {'date': 'Sep 11, 2024 · 10:15 PM UTC',\n",
      "             'external-link': '',\n",
      "             'gifs': [],\n",
      "             'is-pinned': False,\n",
      "             'is-retweet': False,\n",
      "             'link': 'https://twitter.com/Captured_Inks/status/1833992850138103883#m',\n",
      "             'pictures': [],\n",
      "             'quoted-post': {},\n",
      "             'replying-to': [],\n",
      "             'stats': {'comments': 0, 'likes': 0, 'quotes': 0, 'retweets': 0},\n",
      "             'text': 'I think we all know who won the debate last night. '\n",
      "                     '#PresidentialDebate2024  Champions Never Rest  '\n",
      "                     'https://a.co/d/85kcUFk',\n",
      "             'user': {'avatar': 'https://pbs.twimg.com/profile_images/1775668593755037697/HuMqrxZo_bigger.png',\n",
      "                      'name': 'TeeJay',\n",
      "                      'profile_id': '1775668593755037697',\n",
      "                      'username': '@Captured_Inks'},\n",
      "             'videos': []}]}\n"
     ]
    }
   ],
   "source": [
    "pprint(twitter_hash_tweets)"
   ]
  },
  {
   "cell_type": "markdown",
   "metadata": {},
   "source": [
    "### Explore data structure from scrape result"
   ]
  },
  {
   "cell_type": "code",
   "execution_count": 6,
   "metadata": {},
   "outputs": [
    {
     "name": "stdout",
     "output_type": "stream",
     "text": [
      "<class 'dict'>\n"
     ]
    },
    {
     "data": {
      "text/plain": [
       "10"
      ]
     },
     "execution_count": 6,
     "metadata": {},
     "output_type": "execute_result"
    }
   ],
   "source": [
    "print(type(twitter_hash_tweets))\n",
    "len(twitter_hash_tweets[\"tweets\"])"
   ]
  },
  {
   "cell_type": "code",
   "execution_count": 7,
   "metadata": {},
   "outputs": [
    {
     "name": "stdout",
     "output_type": "stream",
     "text": [
      "<class 'list'>\n",
      "13\n"
     ]
    }
   ],
   "source": [
    "print(type(twitter_hash_tweets[\"tweets\"]))\n",
    "print(len(twitter_hash_tweets[\"tweets\"][0]))"
   ]
  },
  {
   "cell_type": "markdown",
   "metadata": {},
   "source": [
    "Based on the executed lines of code, the resulting tweets from Nitter stores in the form of python dictionary and the tweets data within the dictionary appears to be python list objects."
   ]
  },
  {
   "cell_type": "code",
   "execution_count": 8,
   "metadata": {},
   "outputs": [
    {
     "name": "stdout",
     "output_type": "stream",
     "text": [
      "link\n",
      "text\n",
      "user\n",
      "date\n",
      "is-retweet\n",
      "is-pinned\n",
      "external-link\n",
      "replying-to\n",
      "quoted-post\n",
      "stats\n",
      "pictures\n",
      "videos\n",
      "gifs\n",
      "----------------------------------------\n",
      "<class 'dict'>\n"
     ]
    }
   ],
   "source": [
    "# loop through the list object to see what kinds of object are stored in the list\n",
    "for i in twitter_hash_tweets['tweets'][0]:\n",
    "    print(i)\n",
    "print('----------------------------------------')\n",
    "print(type(twitter_hash_tweets['tweets'][0]))"
   ]
  },
  {
   "cell_type": "code",
   "execution_count": 9,
   "metadata": {},
   "outputs": [
    {
     "name": "stdout",
     "output_type": "stream",
     "text": [
      "<class 'dict'>\n",
      "{'name': 'Tatiana Prowell, MD', 'username': '@tmprowell', 'profile_id': '1352753103926390788', 'avatar': 'https://pbs.twimg.com/profile_images/1352753103926390788/f0sFNRhL_bigger.jpg'}\n"
     ]
    }
   ],
   "source": [
    "print(type(twitter_hash_tweets['tweets'][0]['user']))\n",
    "print(twitter_hash_tweets['tweets'][0]['user'])"
   ]
  },
  {
   "cell_type": "code",
   "execution_count": 10,
   "metadata": {},
   "outputs": [
    {
     "name": "stdout",
     "output_type": "stream",
     "text": [
      "@tmprowell\n"
     ]
    }
   ],
   "source": [
    "print(twitter_hash_tweets['tweets'][0]['user']['username'])"
   ]
  },
  {
   "cell_type": "markdown",
   "metadata": {},
   "source": [
    "Now we have knows fully regarding the result of the scrape. Let's extract all the user id"
   ]
  },
  {
   "cell_type": "markdown",
   "metadata": {},
   "source": [
    "### Extract user id"
   ]
  },
  {
   "cell_type": "code",
   "execution_count": 11,
   "metadata": {},
   "outputs": [],
   "source": [
    "# Helper function\n",
    "def extract_element_from_list(init_list:list, element:str) -> list:\n",
    "    \"\"\" \n",
    "    The purpose of the function is to extract certain element from the initial list\n",
    "    Elements included in tweet: (link, text, user, date, is-retweet, is-pinned, external-link, replying-to, quoted-post, stats, pictures, videos, gifs)\n",
    "    Elements includde in users: (name, username, profile_id, avatar)\n",
    "\n",
    "    init_list - A list stores a list of dictionary object. \n",
    "    elements - A string of the exact element listed above.\n",
    "    result - A list of detected element\n",
    "    \"\"\"\n",
    "    result = []\n",
    "    for i in init_list:\n",
    "        result.append(i[element]) # i must be dictionary \n",
    "    return result"
   ]
  },
  {
   "cell_type": "code",
   "execution_count": 12,
   "metadata": {},
   "outputs": [],
   "source": [
    "tweets = twitter_hash_tweets[\"tweets\"]\n",
    "users = extract_element_from_list(tweets, 'user')\n",
    "ids = extract_element_from_list(users, 'username')"
   ]
  },
  {
   "cell_type": "code",
   "execution_count": 13,
   "metadata": {},
   "outputs": [
    {
     "name": "stdout",
     "output_type": "stream",
     "text": [
      "@tmprowell\n",
      "@Princeofloango\n",
      "@AfrikanKing_\n",
      "@savannah_elaine\n",
      "@PMACampbell\n",
      "@SISTASinZION\n",
      "@Garnet_2203\n",
      "@talleyberrybaby\n",
      "@LucyBibb\n",
      "@Captured_Inks\n"
     ]
    }
   ],
   "source": [
    "for i in ids:\n",
    "    print(i)"
   ]
  },
  {
   "cell_type": "markdown",
   "metadata": {},
   "source": [
    "### Extract user profile"
   ]
  },
  {
   "cell_type": "code",
   "execution_count": 14,
   "metadata": {},
   "outputs": [],
   "source": [
    "# Helper function\n",
    "def remove_character(init_list:list, character:str) -> list:\n",
    "    \"\"\" \n",
    "    The purpose is to remove a character from all elements within the init_list.\n",
    "\n",
    "    init_list - a list of strings\n",
    "    charactuer - string value\n",
    "    result - a list of strings with the character removed. \n",
    "    \"\"\"\n",
    "    result = []\n",
    "    for i in init_list:\n",
    "        if i.count(character) > 0:\n",
    "            after = i.replace(character, '', 1) # Only remove the first appearance\n",
    "            result.append(after)\n",
    "    \n",
    "    return result\n",
    "\n",
    "def extract_profile(list_of_ids:list) -> pd.DataFrame:\n",
    "    \"\"\" \n",
    "    The purpose is to extract user profile information using their id from a list_of_ids\n",
    "    \n",
    "    list_of_ids - a list of ids\n",
    "    result - a panda dataframe \n",
    "    \"\"\"\n",
    "    scraper = Nitter(log_level=0, skip_instance_check=False)\n",
    "    result_list = []\n",
    "    for id in list_of_ids:\n",
    "        temp = []\n",
    "        scrape = scraper.get_profile_info(id, mode='detail')\n",
    "        if scrape is None:\n",
    "            continue # Skip all none data to avoid error\n",
    "        bio = scrape['bio']\n",
    "        id = scrape['id']\n",
    "        joined = scrape['joined']\n",
    "        location = scrape['location']\n",
    "        name = scrape['name']\n",
    "        num_follower = scrape['stats']['followers']\n",
    "        num_following = scrape['stats']['following']\n",
    "        likes = scrape['stats']['likes']\n",
    "        media = scrape['stats']['media']\n",
    "        num_tweets = scrape['stats']['tweets']\n",
    "        username = scrape['username']\n",
    "        website = scrape['website']\n",
    "\n",
    "        temp.append({\n",
    "            'id': id,\n",
    "            'username': username,\n",
    "            'bio': bio,\n",
    "            'joined_date': joined,\n",
    "            'location': location,\n",
    "            'name': name,\n",
    "            'num_follower': num_follower,\n",
    "            'num_following': num_following,\n",
    "            'likes': likes,\n",
    "            'media': media,\n",
    "            'num_tweets': num_tweets,\n",
    "            'website': website\n",
    "        })\n",
    "\n",
    "        result_list.extend(temp)\n",
    "    \n",
    "    return pd.DataFrame(result_list)"
   ]
  },
  {
   "cell_type": "code",
   "execution_count": 15,
   "metadata": {},
   "outputs": [
    {
     "name": "stdout",
     "output_type": "stream",
     "text": [
      "['tmprowell', 'Princeofloango', 'AfrikanKing_', 'savannah_elaine', 'PMACampbell', 'SISTASinZION', 'Garnet_2203', 'talleyberrybaby', 'LucyBibb', 'Captured_Inks']\n"
     ]
    }
   ],
   "source": [
    "actual_ids = remove_character(ids, '@')\n",
    "print(actual_ids)"
   ]
  },
  {
   "cell_type": "code",
   "execution_count": null,
   "metadata": {},
   "outputs": [],
   "source": []
  }
 ],
 "metadata": {
  "kernelspec": {
   "display_name": "base",
   "language": "python",
   "name": "python3"
  },
  "language_info": {
   "codemirror_mode": {
    "name": "ipython",
    "version": 3
   },
   "file_extension": ".py",
   "mimetype": "text/x-python",
   "name": "python",
   "nbconvert_exporter": "python",
   "pygments_lexer": "ipython3",
   "version": "3.12.4"
  }
 },
 "nbformat": 4,
 "nbformat_minor": 2
}
